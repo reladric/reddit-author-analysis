{
 "cells": [
  {
   "cell_type": "code",
   "execution_count": 94,
   "metadata": {
    "collapsed": true
   },
   "outputs": [],
   "source": [
    "import pandas as pd\n",
    "import time\n",
    "import numpy as np\n",
    "from datetime import datetime\n",
    "from IPython.display import display"
   ]
  },
  {
   "cell_type": "code",
   "execution_count": 2,
   "metadata": {
    "collapsed": false
   },
   "outputs": [
    {
     "name": "stdout",
     "output_type": "stream",
     "text": [
      "Data frame loading completed in "
     ]
    },
    {
     "ename": "NameError",
     "evalue": "name 'toc' is not defined",
     "output_type": "error",
     "traceback": [
      "\u001b[1;31m---------------------------------------------------------------------------\u001b[0m",
      "\u001b[1;31mNameError\u001b[0m                                 Traceback (most recent call last)",
      "\u001b[1;32m<ipython-input-2-b3c769a6ba42>\u001b[0m in \u001b[0;36m<module>\u001b[1;34m()\u001b[0m\n\u001b[0;32m      1\u001b[0m \u001b[0mtic\u001b[0m \u001b[1;33m=\u001b[0m \u001b[0mtime\u001b[0m\u001b[1;33m.\u001b[0m\u001b[0mtime\u001b[0m\u001b[1;33m(\u001b[0m\u001b[1;33m)\u001b[0m\u001b[1;33m\u001b[0m\u001b[0m\n\u001b[0;32m      2\u001b[0m \u001b[0mall_data\u001b[0m\u001b[1;33m=\u001b[0m\u001b[0mpd\u001b[0m\u001b[1;33m.\u001b[0m\u001b[0mread_json\u001b[0m\u001b[1;33m(\u001b[0m\u001b[1;34m\"/scratch/madhavas/author_analuysis/femmr.json\"\u001b[0m\u001b[1;33m)\u001b[0m\u001b[1;33m\u001b[0m\u001b[0m\n\u001b[1;32m----> 3\u001b[1;33m \u001b[1;32mprint\u001b[0m \u001b[1;34m\"Data frame loading completed in \"\u001b[0m\u001b[1;33m,\u001b[0m\u001b[0mround\u001b[0m\u001b[1;33m(\u001b[0m\u001b[0mtoc\u001b[0m\u001b[1;33m,\u001b[0m\u001b[1;36m2\u001b[0m\u001b[1;33m)\u001b[0m\u001b[1;33m,\u001b[0m\u001b[1;34m\" seconds.\"\u001b[0m\u001b[1;33m\u001b[0m\u001b[0m\n\u001b[0m",
      "\u001b[1;31mNameError\u001b[0m: name 'toc' is not defined"
     ]
    }
   ],
   "source": [
    "tic = time.time()\n",
    "all_data=pd.read_json(\"/scratch/madhavas/author_analuysis/femmr.json\")\n",
    "toc = time.time()-tic\n",
    "print \"Data frame loading completed in \",round(toc,2),\" seconds.\""
   ]
  },
  {
   "cell_type": "code",
   "execution_count": 3,
   "metadata": {
    "collapsed": false
   },
   "outputs": [
    {
     "data": {
      "text/plain": [
       "(3302122, 34)"
      ]
     },
     "execution_count": 3,
     "metadata": {},
     "output_type": "execute_result"
    },
    {
     "name": "stdout",
     "output_type": "stream",
     "text": [
      "\n"
     ]
    }
   ],
   "source": [
    "all_data.shape"
   ]
  },
  {
   "cell_type": "code",
   "execution_count": 4,
   "metadata": {
    "collapsed": true
   },
   "outputs": [],
   "source": [
    "master_author_stats=pd.read_csv(\"/scratch/madhavas/author_analuysis/user_statistics.csv\")"
   ]
  },
  {
   "cell_type": "code",
   "execution_count": 5,
   "metadata": {
    "collapsed": false
   },
   "outputs": [],
   "source": [
    "crossposter_data=all_data[all_data.author.isin(master_author_stats.author.tolist())]"
   ]
  },
  {
   "cell_type": "code",
   "execution_count": 6,
   "metadata": {
    "collapsed": false
   },
   "outputs": [
    {
     "data": {
      "text/plain": [
       "(1022749, 34)"
      ]
     },
     "execution_count": 6,
     "metadata": {},
     "output_type": "execute_result"
    }
   ],
   "source": [
    "crossposter_data.shape"
   ]
  },
  {
   "cell_type": "code",
   "execution_count": 11,
   "metadata": {
    "collapsed": false
   },
   "outputs": [],
   "source": [
    "start_date= datetime.strptime('2005-06-01', '%Y-%m-%d')\n",
    "end_date= datetime.strptime('2016-07-01', '%Y-%m-%d')\n",
    "from calendar import monthrange\n",
    "from datetime import datetime, timedelta\n",
    "def monthdelta(d2, d1):\n",
    "    delta = 0\n",
    "    while True:\n",
    "        mdays = monthrange(d1.year, d1.month)[1]\n",
    "        d1 += timedelta(days=mdays)\n",
    "        if d1 <= d2:\n",
    "            delta += 1\n",
    "        else:\n",
    "            break\n",
    "    return delta"
   ]
  },
  {
   "cell_type": "code",
   "execution_count": 12,
   "metadata": {
    "collapsed": true
   },
   "outputs": [],
   "source": [
    "#%% Useful functions\n",
    "def ymdToUnixTime(y,m,d):\n",
    "    \"\"\" Function to convert month day year to unix timestamp\"\"\"\n",
    "    t = datetime.date(year=y,day=d,month=m)\n",
    "    t_u = int(time.mktime(t.timetuple()))\n",
    "    return t,t_u\n",
    "\n",
    "def dtFromUnixTime(ut):\n",
    "    \"\"\" Function to return date time object from unix time\"\"\"\n",
    "    return datetime.utcfromtimestamp(ut)\n"
   ]
  },
  {
   "cell_type": "code",
   "execution_count": 13,
   "metadata": {
    "collapsed": false
   },
   "outputs": [
    {
     "name": "stderr",
     "output_type": "stream",
     "text": [
      "/nfs/nfs7/home/madhavas/.local/lib/python2.7/site-packages/ipykernel-4.1.0-py2.7.egg/ipykernel/__main__.py:3: SettingWithCopyWarning: \n",
      "A value is trying to be set on a copy of a slice from a DataFrame.\n",
      "Try using .loc[row_indexer,col_indexer] = value instead\n",
      "\n",
      "See the caveats in the documentation: http://pandas.pydata.org/pandas-docs/stable/indexing.html#indexing-view-versus-copy\n",
      "  app.launch_new_instance()\n",
      "/nfs/nfs7/home/madhavas/.local/lib/python2.7/site-packages/ipykernel-4.1.0-py2.7.egg/ipykernel/__main__.py:4: SettingWithCopyWarning: \n",
      "A value is trying to be set on a copy of a slice from a DataFrame.\n",
      "Try using .loc[row_indexer,col_indexer] = value instead\n",
      "\n",
      "See the caveats in the documentation: http://pandas.pydata.org/pandas-docs/stable/indexing.html#indexing-view-versus-copy\n"
     ]
    },
    {
     "name": "stdout",
     "output_type": "stream",
     "text": [
      "Data frame creation completed in  1.98  seconds.\n"
     ]
    },
    {
     "name": "stderr",
     "output_type": "stream",
     "text": [
      "/nfs/nfs7/home/madhavas/.local/lib/python2.7/site-packages/ipykernel-4.1.0-py2.7.egg/ipykernel/__main__.py:5: SettingWithCopyWarning: \n",
      "A value is trying to be set on a copy of a slice from a DataFrame.\n",
      "Try using .loc[row_indexer,col_indexer] = value instead\n",
      "\n",
      "See the caveats in the documentation: http://pandas.pydata.org/pandas-docs/stable/indexing.html#indexing-view-versus-copy\n"
     ]
    }
   ],
   "source": [
    "tic = time.time()\n",
    "\"\"\" NEED TO CONVERT DATA TYPES --- SOME VALUES ARE SHOWING UP AS UNICODE STRINGS\"\"\" \n",
    "crossposter_data[u'created_date']=crossposter_data[u'created_utc'].map(lambda x: dtFromUnixTime(float(x)))\n",
    "crossposter_data[u'score'] = crossposter_data[u'score'].map(lambda x: int(x))\n",
    "crossposter_data[u'ups'] = crossposter_data[u'ups'].map(lambda x: int(x))\n",
    "toc = time.time()-tic\n",
    "print \"Data frame creation completed in \",round(toc,2),\" seconds.\""
   ]
  },
  {
   "cell_type": "code",
   "execution_count": 14,
   "metadata": {
    "collapsed": false
   },
   "outputs": [
    {
     "name": "stdout",
     "output_type": "stream",
     "text": [
      "Month number calculated in  253.53  seconds.\n"
     ]
    },
    {
     "name": "stderr",
     "output_type": "stream",
     "text": [
      "/nfs/nfs7/home/madhavas/.local/lib/python2.7/site-packages/ipykernel-4.1.0-py2.7.egg/ipykernel/__main__.py:2: SettingWithCopyWarning: \n",
      "A value is trying to be set on a copy of a slice from a DataFrame.\n",
      "Try using .loc[row_indexer,col_indexer] = value instead\n",
      "\n",
      "See the caveats in the documentation: http://pandas.pydata.org/pandas-docs/stable/indexing.html#indexing-view-versus-copy\n",
      "  from ipykernel import kernelapp as app\n"
     ]
    }
   ],
   "source": [
    "tic = time.time()\n",
    "crossposter_data[\"month_num\"] = crossposter_data.created_date.apply( lambda x: monthdelta(x, start_date))\n",
    "toc = time.time()-tic\n",
    "print \"Month number calculated in \",round(toc,2),\" seconds.\"\n"
   ]
  },
  {
   "cell_type": "code",
   "execution_count": 15,
   "metadata": {
    "collapsed": false
   },
   "outputs": [
    {
     "data": {
      "text/html": [
       "<div>\n",
       "<table border=\"1\" class=\"dataframe\">\n",
       "  <thead>\n",
       "    <tr style=\"text-align: right;\">\n",
       "      <th></th>\n",
       "      <th>approved_by</th>\n",
       "      <th>archived</th>\n",
       "      <th>author</th>\n",
       "      <th>author_flair_css_class</th>\n",
       "      <th>author_flair_text</th>\n",
       "      <th>banned_by</th>\n",
       "      <th>body</th>\n",
       "      <th>body_html</th>\n",
       "      <th>controversiality</th>\n",
       "      <th>created</th>\n",
       "      <th>...</th>\n",
       "      <th>saved</th>\n",
       "      <th>score</th>\n",
       "      <th>score_hidden</th>\n",
       "      <th>stickied</th>\n",
       "      <th>subreddit</th>\n",
       "      <th>subreddit_id</th>\n",
       "      <th>ups</th>\n",
       "      <th>user_reports</th>\n",
       "      <th>created_date</th>\n",
       "      <th>month_num</th>\n",
       "    </tr>\n",
       "  </thead>\n",
       "  <tbody>\n",
       "    <tr>\n",
       "      <th>0</th>\n",
       "      <td>NaN</td>\n",
       "      <td>1.0</td>\n",
       "      <td>VegetablePaste</td>\n",
       "      <td>feminist</td>\n",
       "      <td>Feminist</td>\n",
       "      <td>NaN</td>\n",
       "      <td>Things can be differently arranged between two...</td>\n",
       "      <td>NaN</td>\n",
       "      <td>0</td>\n",
       "      <td>NaN</td>\n",
       "      <td>...</td>\n",
       "      <td>NaN</td>\n",
       "      <td>2</td>\n",
       "      <td>0.0</td>\n",
       "      <td>NaN</td>\n",
       "      <td>Feminism</td>\n",
       "      <td>t5_2qr7i</td>\n",
       "      <td>2</td>\n",
       "      <td>NaN</td>\n",
       "      <td>2013-02-01 00:01:40</td>\n",
       "      <td>92</td>\n",
       "    </tr>\n",
       "    <tr>\n",
       "      <th>1</th>\n",
       "      <td>NaN</td>\n",
       "      <td>1.0</td>\n",
       "      <td>blart_history</td>\n",
       "      <td>None</td>\n",
       "      <td>None</td>\n",
       "      <td>NaN</td>\n",
       "      <td>It was only a folly in title; the artist who m...</td>\n",
       "      <td>NaN</td>\n",
       "      <td>0</td>\n",
       "      <td>NaN</td>\n",
       "      <td>...</td>\n",
       "      <td>NaN</td>\n",
       "      <td>2</td>\n",
       "      <td>0.0</td>\n",
       "      <td>NaN</td>\n",
       "      <td>Feminism</td>\n",
       "      <td>t5_2qr7i</td>\n",
       "      <td>2</td>\n",
       "      <td>NaN</td>\n",
       "      <td>2013-02-01 00:01:44</td>\n",
       "      <td>92</td>\n",
       "    </tr>\n",
       "    <tr>\n",
       "      <th>3</th>\n",
       "      <td>NaN</td>\n",
       "      <td>1.0</td>\n",
       "      <td>Shagoosty</td>\n",
       "      <td>feminist</td>\n",
       "      <td>Feminist</td>\n",
       "      <td>NaN</td>\n",
       "      <td>It should be required.  Equality no matter wha...</td>\n",
       "      <td>NaN</td>\n",
       "      <td>0</td>\n",
       "      <td>NaN</td>\n",
       "      <td>...</td>\n",
       "      <td>NaN</td>\n",
       "      <td>17</td>\n",
       "      <td>0.0</td>\n",
       "      <td>NaN</td>\n",
       "      <td>Feminism</td>\n",
       "      <td>t5_2qr7i</td>\n",
       "      <td>17</td>\n",
       "      <td>NaN</td>\n",
       "      <td>2013-02-01 00:09:58</td>\n",
       "      <td>92</td>\n",
       "    </tr>\n",
       "    <tr>\n",
       "      <th>4</th>\n",
       "      <td>NaN</td>\n",
       "      <td>1.0</td>\n",
       "      <td>darwin2500</td>\n",
       "      <td>None</td>\n",
       "      <td>None</td>\n",
       "      <td>NaN</td>\n",
       "      <td>While this is certainly one possible implement...</td>\n",
       "      <td>NaN</td>\n",
       "      <td>0</td>\n",
       "      <td>NaN</td>\n",
       "      <td>...</td>\n",
       "      <td>NaN</td>\n",
       "      <td>1</td>\n",
       "      <td>0.0</td>\n",
       "      <td>NaN</td>\n",
       "      <td>Feminism</td>\n",
       "      <td>t5_2qr7i</td>\n",
       "      <td>1</td>\n",
       "      <td>NaN</td>\n",
       "      <td>2013-02-01 00:12:23</td>\n",
       "      <td>92</td>\n",
       "    </tr>\n",
       "    <tr>\n",
       "      <th>5</th>\n",
       "      <td>NaN</td>\n",
       "      <td>1.0</td>\n",
       "      <td>lalib</td>\n",
       "      <td>None</td>\n",
       "      <td>None</td>\n",
       "      <td>NaN</td>\n",
       "      <td>Which angle is that?</td>\n",
       "      <td>NaN</td>\n",
       "      <td>0</td>\n",
       "      <td>NaN</td>\n",
       "      <td>...</td>\n",
       "      <td>NaN</td>\n",
       "      <td>2</td>\n",
       "      <td>0.0</td>\n",
       "      <td>NaN</td>\n",
       "      <td>Feminism</td>\n",
       "      <td>t5_2qr7i</td>\n",
       "      <td>2</td>\n",
       "      <td>NaN</td>\n",
       "      <td>2013-02-01 00:27:15</td>\n",
       "      <td>92</td>\n",
       "    </tr>\n",
       "  </tbody>\n",
       "</table>\n",
       "<p>5 rows × 36 columns</p>\n",
       "</div>"
      ],
      "text/plain": [
       "   approved_by  archived          author author_flair_css_class  \\\n",
       "0          NaN       1.0  VegetablePaste               feminist   \n",
       "1          NaN       1.0   blart_history                   None   \n",
       "3          NaN       1.0       Shagoosty               feminist   \n",
       "4          NaN       1.0      darwin2500                   None   \n",
       "5          NaN       1.0           lalib                   None   \n",
       "\n",
       "  author_flair_text  banned_by  \\\n",
       "0          Feminist        NaN   \n",
       "1              None        NaN   \n",
       "3          Feminist        NaN   \n",
       "4              None        NaN   \n",
       "5              None        NaN   \n",
       "\n",
       "                                                body body_html  \\\n",
       "0  Things can be differently arranged between two...       NaN   \n",
       "1  It was only a folly in title; the artist who m...       NaN   \n",
       "3  It should be required.  Equality no matter wha...       NaN   \n",
       "4  While this is certainly one possible implement...       NaN   \n",
       "5                               Which angle is that?       NaN   \n",
       "\n",
       "   controversiality  created    ...     saved score  score_hidden  stickied  \\\n",
       "0                 0      NaN    ...       NaN     2           0.0       NaN   \n",
       "1                 0      NaN    ...       NaN     2           0.0       NaN   \n",
       "3                 0      NaN    ...       NaN    17           0.0       NaN   \n",
       "4                 0      NaN    ...       NaN     1           0.0       NaN   \n",
       "5                 0      NaN    ...       NaN     2           0.0       NaN   \n",
       "\n",
       "   subreddit subreddit_id  ups user_reports        created_date month_num  \n",
       "0   Feminism     t5_2qr7i    2          NaN 2013-02-01 00:01:40        92  \n",
       "1   Feminism     t5_2qr7i    2          NaN 2013-02-01 00:01:44        92  \n",
       "3   Feminism     t5_2qr7i   17          NaN 2013-02-01 00:09:58        92  \n",
       "4   Feminism     t5_2qr7i    1          NaN 2013-02-01 00:12:23        92  \n",
       "5   Feminism     t5_2qr7i    2          NaN 2013-02-01 00:27:15        92  \n",
       "\n",
       "[5 rows x 36 columns]"
      ]
     },
     "execution_count": 15,
     "metadata": {},
     "output_type": "execute_result"
    }
   ],
   "source": [
    "crossposter_data.head()"
   ]
  },
  {
   "cell_type": "code",
   "execution_count": 16,
   "metadata": {
    "collapsed": false
   },
   "outputs": [],
   "source": [
    "month_level_gp=crossposter_data.groupby([\"month_num\"])"
   ]
  },
  {
   "cell_type": "code",
   "execution_count": 17,
   "metadata": {
    "collapsed": false
   },
   "outputs": [],
   "source": [
    "month_frame=pd.DataFrame(month_level_gp.agg({\"author\":[len,lambda x: len(np.unique(x))]}).to_records())"
   ]
  },
  {
   "cell_type": "code",
   "execution_count": 29,
   "metadata": {
    "collapsed": false
   },
   "outputs": [],
   "source": [
    "month_frame.columns=[\"month_num\",\"posts_in_month\",\"authors_in_month\"]"
   ]
  },
  {
   "cell_type": "code",
   "execution_count": 18,
   "metadata": {
    "collapsed": true
   },
   "outputs": [],
   "source": [
    "group_level_gp=crossposter_data.groupby([\"subreddit\",\"month_num\"])"
   ]
  },
  {
   "cell_type": "code",
   "execution_count": 19,
   "metadata": {
    "collapsed": false
   },
   "outputs": [],
   "source": [
    "group_frame=pd.DataFrame(group_level_gp.agg({\"author\":[len,lambda x: len(np.unique(x))]}).to_records())"
   ]
  },
  {
   "cell_type": "code",
   "execution_count": 49,
   "metadata": {
    "collapsed": false
   },
   "outputs": [],
   "source": [
    "group_frame.columns=[\"subreddit\",\"month_num\",\"posts_in_month\",\"authors_in_month\"]\n",
    "group_pivoted_frame=group_frame.pivot_table(index=\"month_num\", columns=\"subreddit\", values=[\"posts_in_month\",\"authors_in_month\"])\n",
    "group_pivoted_frame[group_pivoted_frame.isnull()]=0\n",
    "group_pivoted_frame.reset_index(inplace=True)\n",
    "group_pivoted_frame.columns=[\"month_num\",\"feminism_posts_in_month\",\"mensrights_posts_in_month\", \"feminism_authors_in_month\",\"mensrights_authors_in_month\"]"
   ]
  },
  {
   "cell_type": "code",
   "execution_count": 50,
   "metadata": {
    "collapsed": false
   },
   "outputs": [
    {
     "data": {
      "text/html": [
       "<div>\n",
       "<table border=\"1\" class=\"dataframe\">\n",
       "  <thead>\n",
       "    <tr style=\"text-align: right;\">\n",
       "      <th></th>\n",
       "      <th>month_num</th>\n",
       "      <th>feminism_posts_in_month</th>\n",
       "      <th>mensrights_posts_in_month</th>\n",
       "      <th>feminism_authors_in_month</th>\n",
       "      <th>mensrights_authors_in_month</th>\n",
       "    </tr>\n",
       "  </thead>\n",
       "  <tbody>\n",
       "    <tr>\n",
       "      <th>0</th>\n",
       "      <td>33</td>\n",
       "      <td>0.0</td>\n",
       "      <td>1.0</td>\n",
       "      <td>0.0</td>\n",
       "      <td>1.0</td>\n",
       "    </tr>\n",
       "    <tr>\n",
       "      <th>1</th>\n",
       "      <td>34</td>\n",
       "      <td>0.0</td>\n",
       "      <td>1.0</td>\n",
       "      <td>0.0</td>\n",
       "      <td>1.0</td>\n",
       "    </tr>\n",
       "    <tr>\n",
       "      <th>2</th>\n",
       "      <td>35</td>\n",
       "      <td>0.0</td>\n",
       "      <td>1.0</td>\n",
       "      <td>0.0</td>\n",
       "      <td>1.0</td>\n",
       "    </tr>\n",
       "    <tr>\n",
       "      <th>3</th>\n",
       "      <td>36</td>\n",
       "      <td>0.0</td>\n",
       "      <td>45.0</td>\n",
       "      <td>0.0</td>\n",
       "      <td>11.0</td>\n",
       "    </tr>\n",
       "    <tr>\n",
       "      <th>4</th>\n",
       "      <td>37</td>\n",
       "      <td>0.0</td>\n",
       "      <td>96.0</td>\n",
       "      <td>0.0</td>\n",
       "      <td>18.0</td>\n",
       "    </tr>\n",
       "  </tbody>\n",
       "</table>\n",
       "</div>"
      ],
      "text/plain": [
       "   month_num  feminism_posts_in_month  mensrights_posts_in_month  \\\n",
       "0         33                      0.0                        1.0   \n",
       "1         34                      0.0                        1.0   \n",
       "2         35                      0.0                        1.0   \n",
       "3         36                      0.0                       45.0   \n",
       "4         37                      0.0                       96.0   \n",
       "\n",
       "   feminism_authors_in_month  mensrights_authors_in_month  \n",
       "0                        0.0                          1.0  \n",
       "1                        0.0                          1.0  \n",
       "2                        0.0                          1.0  \n",
       "3                        0.0                         11.0  \n",
       "4                        0.0                         18.0  "
      ]
     },
     "execution_count": 50,
     "metadata": {},
     "output_type": "execute_result"
    }
   ],
   "source": [
    "group_pivoted_frame.head()"
   ]
  },
  {
   "cell_type": "code",
   "execution_count": 20,
   "metadata": {
    "collapsed": false
   },
   "outputs": [],
   "source": [
    "gp=crossposter_data.groupby([\"author\",\"month_num\",\"subreddit\"])"
   ]
  },
  {
   "cell_type": "code",
   "execution_count": 21,
   "metadata": {
    "collapsed": false
   },
   "outputs": [],
   "source": [
    "user_frame=pd.DataFrame(gp.agg({\"score\":[np.median,np.mean, np.sum], \"author\":len}).to_records())\n"
   ]
  },
  {
   "cell_type": "code",
   "execution_count": 22,
   "metadata": {
    "collapsed": false
   },
   "outputs": [],
   "source": [
    "user_frame.columns=[\"author\",\"month_num\",\"subreddit\",\"median\",\"mean\",\"total_score\",\"number_of_posts\"]\n"
   ]
  },
  {
   "cell_type": "code",
   "execution_count": 23,
   "metadata": {
    "collapsed": false
   },
   "outputs": [],
   "source": [
    "user_pivoted_frame=user_frame.pivot_table(index=[\"author\",\"month_num\"], columns=\"subreddit\", values=[\"median\",\"mean\",\"total_score\",\"number_of_posts\"])\n"
   ]
  },
  {
   "cell_type": "code",
   "execution_count": 24,
   "metadata": {
    "collapsed": false
   },
   "outputs": [],
   "source": [
    "user_pivoted_frame[user_pivoted_frame.isnull()]=0"
   ]
  },
  {
   "cell_type": "code",
   "execution_count": 25,
   "metadata": {
    "collapsed": false
   },
   "outputs": [],
   "source": [
    "user_pivoted_frame.reset_index(inplace=True)"
   ]
  },
  {
   "cell_type": "code",
   "execution_count": 32,
   "metadata": {
    "collapsed": false
   },
   "outputs": [],
   "source": [
    "user_pivoted_frame.columns=[\"author\",\"month_num\",\"feminism_median\",\"mensrights_median\",\"feminism_mean\",\"mensrights_mean\",\"feminism_total_score\",\"mensrights_total_score\",\"feminism_number_of_posts\",\"mensrights_number_of_posts\"]"
   ]
  },
  {
   "cell_type": "code",
   "execution_count": 40,
   "metadata": {
    "collapsed": false
   },
   "outputs": [],
   "source": [
    "first_level_join=pd.merge(user_pivoted_frame, month_frame, how=\"left\", left_on =\"month_num\", right_on=\"month_num\")"
   ]
  },
  {
   "cell_type": "code",
   "execution_count": 53,
   "metadata": {
    "collapsed": false
   },
   "outputs": [],
   "source": [
    "non_lagged_frame=pd.merge(first_level_join, group_pivoted_frame, how=\"left\", left_on =[\"month_num\"], right_on=[\"month_num\"],)"
   ]
  },
  {
   "cell_type": "code",
   "execution_count": 180,
   "metadata": {
    "collapsed": false
   },
   "outputs": [
    {
     "data": {
      "text/plain": [
       "[0, 0, 0, 0, 0, 0, 0, 0, 0, 0, 0, 0, 0, 0, 0, 0, 0, 0, 0, 0, 0, 0, 0, 0]"
      ]
     },
     "execution_count": 180,
     "metadata": {},
     "output_type": "execute_result"
    }
   ],
   "source": []
  },
  {
   "cell_type": "code",
   "execution_count": 277,
   "metadata": {
    "collapsed": false
   },
   "outputs": [],
   "source": [
    "def get_prev_month(x, complete_frame):\n",
    "    first_lag_frame = complete_frame[(complete_frame.author==x.author) & (complete_frame.month_num ==x.month_num - 1)]  [[ 'author', 'month_num', 'feminism_median', 'mensrights_median', 'feminism_mean', 'mensrights_mean', 'feminism_total_score', 'mensrights_total_score', 'feminism_number_of_posts', 'mensrights_number_of_posts' ]]\n",
    "    first_lag_frame.columns=['author','month_num','lag_1_feminism_median','lag_1_mensrights_median','lag_1_feminism_mean','lag_1_mensrights_mean','lag_1_feminism_total_score','lag_1_mensrights_total_score','lag_1_feminism_number_of_posts','lag_1_mensrights_number_of_posts']\n",
    "    feminism_delta_median =x.feminism_median - first_lag_frame.lag_1_feminism_median\n",
    "    mensrights_delta_median =x.mensrights_median - first_lag_frame.lag_1_mensrights_median\n",
    "    feminism_delta_mean =x.feminism_mean - first_lag_frame.lag_1_feminism_mean\n",
    "    mensrights_delta_mean =x.mensrights_mean - first_lag_frame.lag_1_mensrights_mean\n",
    "    feminism_delta_total_score =x.feminism_total_score - first_lag_frame.lag_1_feminism_total_score\n",
    "    mensrights_delta_total_score =x.mensrights_total_score - first_lag_frame.lag_1_mensrights_total_score\n",
    "    feminism_delta_number_of_posts =x.feminism_number_of_posts - first_lag_frame.lag_1_feminism_number_of_posts\n",
    "    mensrights_delta_number_of_posts =x.mensrights_number_of_posts - first_lag_frame.lag_1_mensrights_number_of_posts\n",
    "   \n",
    "    second_lag_frame=complete_frame[(complete_frame.author==x.author) & (complete_frame.month_num ==x.month_num-2)][['author','month_num','feminism_median','mensrights_median','feminism_mean','mensrights_mean','feminism_total_score','mensrights_total_score','feminism_number_of_posts','mensrights_number_of_posts']]\n",
    "    second_lag_frame.columns=['author','month_num','lag_2_feminism_median','lag_2_mensrights_median','lag_2_feminism_mean','lag_2_mensrights_mean','lag_2_feminism_total_score','lag_2_mensrights_total_score','lag_2_feminism_number_of_posts','lag_2_mensrights_number_of_posts']\n",
    "    third_lag_frame =complete_frame[(complete_frame.author==x.author) & (complete_frame.month_num ==x.month_num-3)][['author','month_num','feminism_median','mensrights_median','feminism_mean','mensrights_mean','feminism_total_score','mensrights_total_score','feminism_number_of_posts','mensrights_number_of_posts']]\n",
    "    third_lag_frame.columns=['author','month_num','lag_3_feminism_median','lag_3_mensrights_median','lag_3_feminism_mean','lag_3_mensrights_mean','lag_3_feminism_total_score','lag_3_mensrights_total_score','lag_3_feminism_number_of_posts','lag_3_mensrights_number_of_posts']\n",
    "    first_merge=pd.merge(first_lag_frame, second_lag_frame, how=\"outer\", left_on=\"author\", right_on =\"author\")\n",
    "    second_merge=pd.merge(first_merge, third_lag_frame, how=\"outer\", left_on=\"author\", right_on =\"author\")\n",
    "    return_frame= second_merge[['lag_1_feminism_median','lag_1_mensrights_median','lag_1_feminism_mean','lag_1_mensrights_mean','lag_1_feminism_total_score','lag_1_mensrights_total_score','lag_1_feminism_number_of_posts','lag_1_mensrights_number_of_posts','lag_2_feminism_median','lag_2_mensrights_median','lag_2_feminism_mean','lag_2_mensrights_mean','lag_2_feminism_total_score','lag_2_mensrights_total_score','lag_2_feminism_number_of_posts','lag_2_mensrights_number_of_posts','lag_3_feminism_median','lag_3_mensrights_median','lag_3_feminism_mean','lag_3_mensrights_mean','lag_3_feminism_total_score','lag_3_mensrights_total_score','lag_3_feminism_number_of_posts','lag_3_mensrights_number_of_posts']]\n",
    "    return_frame[return_frame.isnull()]=0\n",
    "    if return_frame.shape[0]>0:\n",
    "        return_series=return_frame.iloc[0]\n",
    "        if(feminism_delta_median.size >0):\n",
    "            return_series = return_series.append( pd.Series( {\"feminism_delta_median\" : feminism_delta_median.get(0)}))\n",
    "            return_series = return_series.append(pd.Series({\"mensrights_delta_median\": mensrights_delta_median.get(0)}))\n",
    "            return_series = return_series.append(pd.Series({\"feminism_delta_mean\": feminism_delta_mean.get(0)}))\n",
    "            return_series = return_series.append(pd.Series({\"mensrights_delta_mean\": mensrights_delta_mean.get(0)}))\n",
    "            return_series = return_series.append(pd.Series({\"feminism_delta_total_score\": feminism_delta_total_score.get(0)}))\n",
    "            return_series = return_series.append(pd.Series({\"mensrights_delta_total_score\": mensrights_delta_total_score.get(0)}))\n",
    "            return_series = return_series.append(pd.Series({\"feminism_delta_number_of_posts\": feminism_delta_number_of_posts.get(0)}))\n",
    "            return_series = return_series.append(pd.Series({\"mensrights_delta_number_of_posts\": mensrights_delta_number_of_posts.get(0)}))\n",
    "        else:\n",
    "            return_series = return_series.append(pd.Series({\"feminism_delta_median\": 0}))\n",
    "            return_series = return_series.append(pd.Series({\"mensrights_delta_median\":0}))\n",
    "            return_series = return_series.append(pd.Series({\"feminism_delta_mean\": 0}))\n",
    "            return_series = return_series.append(pd.Series({\"mensrights_delta_mean\":0}))\n",
    "            return_series = return_series.append(pd.Series({\"feminism_delta_total_score\":0}))\n",
    "            return_series = return_series.append(pd.Series({\"mensrights_delta_total_score\":0}))\n",
    "            return_series = return_series.append(pd.Series({\"feminism_delta_number_of_posts\":0}))\n",
    "            return_series = return_series.append(pd.Series({\"mensrights_delta_number_of_posts\":0}))\n",
    "        return return_series\n",
    "    else:\n",
    "        return  pd.Series({'lag_1_feminism_median':0, 'lag_1_mensrights_median':0, 'lag_1_feminism_mean':0, 'lag_1_mensrights_mean':0, 'lag_1_feminism_total_score':0, 'lag_1_mensrights_total_score':0, 'lag_1_feminism_number_of_posts':0, 'lag_1_mensrights_number_of_posts':0, 'lag_2_feminism_median':0, 'lag_2_mensrights_median':0, 'lag_2_feminism_mean':0, 'lag_2_mensrights_mean':0, 'lag_2_feminism_total_score':0, 'lag_2_mensrights_total_score':0, 'lag_2_feminism_number_of_posts':0, 'lag_2_mensrights_number_of_posts':0, 'lag_3_feminism_median':0, 'lag_3_mensrights_median':0, 'lag_3_feminism_mean':0, 'lag_3_mensrights_mean':0, 'lag_3_feminism_total_score':0, 'lag_3_mensrights_total_score':0, 'lag_3_feminism_number_of_posts':0, 'lag_3_mensrights_number_of_posts':0, \"feminism_delta_median\": 0, \"mensrights_delta_median\":0, \"feminism_delta_mean\": 0, \"mensrights_delta_mean\":0, \"feminism_delta_total_score\":0, \"mensrights_delta_total_score\":0, \"feminism_delta_number_of_posts\":0, \"mensrights_delta_number_of_posts\":0})"
   ]
  },
  {
   "cell_type": "code",
   "execution_count": 271,
   "metadata": {
    "collapsed": false,
    "scrolled": true
   },
   "outputs": [
    {
     "name": "stdout",
     "output_type": "stream",
     "text": [
      "<class 'pandas.core.series.Series'>\n"
     ]
    },
    {
     "data": {
      "text/plain": [
       "lag_1_feminism_median                  0\n",
       "lag_1_mensrights_median              0.5\n",
       "lag_1_feminism_mean                    0\n",
       "lag_1_mensrights_mean               -1.5\n",
       "lag_1_feminism_total_score             0\n",
       "lag_1_mensrights_total_score          -6\n",
       "lag_1_feminism_number_of_posts         0\n",
       "lag_1_mensrights_number_of_posts       4\n",
       "lag_2_feminism_median                  0\n",
       "lag_2_mensrights_median                3\n",
       "lag_2_feminism_mean                    0\n",
       "lag_2_mensrights_mean                  4\n",
       "lag_2_feminism_total_score             0\n",
       "lag_2_mensrights_total_score          16\n",
       "lag_2_feminism_number_of_posts         0\n",
       "lag_2_mensrights_number_of_posts       4\n",
       "lag_3_feminism_median                 -2\n",
       "lag_3_mensrights_median               10\n",
       "lag_3_feminism_mean                   -2\n",
       "lag_3_mensrights_mean                 10\n",
       "lag_3_feminism_total_score            -2\n",
       "lag_3_mensrights_total_score          10\n",
       "lag_3_feminism_number_of_posts         1\n",
       "lag_3_mensrights_number_of_posts       1\n",
       "feminism_delta_median               None\n",
       "mensrights_delta_median             None\n",
       "feminism_delta_mean                 None\n",
       "mensrights_delta_mean               None\n",
       "feminism_delta_total_score          None\n",
       "mensrights_delta_total_score        None\n",
       "feminism_delta_number_of_posts      None\n",
       "mensrights_delta_number_of_posts    None\n",
       "dtype: object"
      ]
     },
     "execution_count": 271,
     "metadata": {},
     "output_type": "execute_result"
    }
   ],
   "source": [
    "get_prev_month(non_lagged_frame.iloc[4], non_lagged_frame)"
   ]
  },
  {
   "cell_type": "code",
   "execution_count": 214,
   "metadata": {
    "collapsed": false
   },
   "outputs": [
    {
     "data": {
      "text/plain": [
       "[0, 0, 0, 0, 0, 0, 0, 0, 1, 2, 3]"
      ]
     },
     "execution_count": 214,
     "metadata": {},
     "output_type": "execute_result"
    }
   ],
   "source": [
    "a=[0]*8\n",
    "b=[1,2,3]\n",
    "a+b"
   ]
  },
  {
   "cell_type": "code",
   "execution_count": 136,
   "metadata": {
    "collapsed": false
   },
   "outputs": [
    {
     "data": {
      "text/plain": [
       "pandas.core.frame.DataFrame"
      ]
     },
     "execution_count": 136,
     "metadata": {},
     "output_type": "execute_result"
    }
   ],
   "source": [
    "type(non_lagged_frame.iloc[1:2])"
   ]
  },
  {
   "cell_type": "code",
   "execution_count": 77,
   "metadata": {
    "collapsed": false
   },
   "outputs": [
    {
     "data": {
      "text/html": [
       "<div>\n",
       "<table border=\"1\" class=\"dataframe\">\n",
       "  <thead>\n",
       "    <tr style=\"text-align: right;\">\n",
       "      <th></th>\n",
       "      <th>author</th>\n",
       "      <th>month_num</th>\n",
       "      <th>feminism_median</th>\n",
       "      <th>mensrights_median</th>\n",
       "      <th>feminism_mean</th>\n",
       "      <th>mensrights_mean</th>\n",
       "      <th>feminism_total_score</th>\n",
       "      <th>mensrights_total_score</th>\n",
       "      <th>feminism_number_of_posts</th>\n",
       "      <th>mensrights_number_of_posts</th>\n",
       "      <th>posts_in_month</th>\n",
       "      <th>authors_in_month</th>\n",
       "      <th>feminism_posts_in_month</th>\n",
       "      <th>mensrights_posts_in_month</th>\n",
       "      <th>feminism_authors_in_month</th>\n",
       "      <th>mensrights_authors_in_month</th>\n",
       "    </tr>\n",
       "  </thead>\n",
       "  <tbody>\n",
       "    <tr>\n",
       "      <th>0</th>\n",
       "      <td>---</td>\n",
       "      <td>82</td>\n",
       "      <td>0.0</td>\n",
       "      <td>7.0</td>\n",
       "      <td>0.0</td>\n",
       "      <td>7.0</td>\n",
       "      <td>0.0</td>\n",
       "      <td>14.0</td>\n",
       "      <td>0.0</td>\n",
       "      <td>2.0</td>\n",
       "      <td>23087</td>\n",
       "      <td>948</td>\n",
       "      <td>4900.0</td>\n",
       "      <td>18187.0</td>\n",
       "      <td>417.0</td>\n",
       "      <td>770.0</td>\n",
       "    </tr>\n",
       "    <tr>\n",
       "      <th>1</th>\n",
       "      <td>---</td>\n",
       "      <td>83</td>\n",
       "      <td>-2.0</td>\n",
       "      <td>10.0</td>\n",
       "      <td>-2.0</td>\n",
       "      <td>10.0</td>\n",
       "      <td>-2.0</td>\n",
       "      <td>10.0</td>\n",
       "      <td>1.0</td>\n",
       "      <td>1.0</td>\n",
       "      <td>22746</td>\n",
       "      <td>957</td>\n",
       "      <td>3521.0</td>\n",
       "      <td>19225.0</td>\n",
       "      <td>340.0</td>\n",
       "      <td>794.0</td>\n",
       "    </tr>\n",
       "    <tr>\n",
       "      <th>2</th>\n",
       "      <td>---</td>\n",
       "      <td>84</td>\n",
       "      <td>0.0</td>\n",
       "      <td>3.0</td>\n",
       "      <td>0.0</td>\n",
       "      <td>4.0</td>\n",
       "      <td>0.0</td>\n",
       "      <td>16.0</td>\n",
       "      <td>0.0</td>\n",
       "      <td>4.0</td>\n",
       "      <td>18895</td>\n",
       "      <td>998</td>\n",
       "      <td>3672.0</td>\n",
       "      <td>15223.0</td>\n",
       "      <td>397.0</td>\n",
       "      <td>773.0</td>\n",
       "    </tr>\n",
       "    <tr>\n",
       "      <th>3</th>\n",
       "      <td>---</td>\n",
       "      <td>85</td>\n",
       "      <td>0.0</td>\n",
       "      <td>0.5</td>\n",
       "      <td>0.0</td>\n",
       "      <td>-1.5</td>\n",
       "      <td>0.0</td>\n",
       "      <td>-6.0</td>\n",
       "      <td>0.0</td>\n",
       "      <td>4.0</td>\n",
       "      <td>22963</td>\n",
       "      <td>1160</td>\n",
       "      <td>4616.0</td>\n",
       "      <td>18347.0</td>\n",
       "      <td>545.0</td>\n",
       "      <td>914.0</td>\n",
       "    </tr>\n",
       "    <tr>\n",
       "      <th>4</th>\n",
       "      <td>---</td>\n",
       "      <td>86</td>\n",
       "      <td>0.0</td>\n",
       "      <td>2.0</td>\n",
       "      <td>0.0</td>\n",
       "      <td>3.0</td>\n",
       "      <td>0.0</td>\n",
       "      <td>39.0</td>\n",
       "      <td>0.0</td>\n",
       "      <td>13.0</td>\n",
       "      <td>28678</td>\n",
       "      <td>1280</td>\n",
       "      <td>5206.0</td>\n",
       "      <td>23472.0</td>\n",
       "      <td>610.0</td>\n",
       "      <td>981.0</td>\n",
       "    </tr>\n",
       "  </tbody>\n",
       "</table>\n",
       "</div>"
      ],
      "text/plain": [
       "  author  month_num  feminism_median  mensrights_median  feminism_mean  \\\n",
       "0    ---         82              0.0                7.0            0.0   \n",
       "1    ---         83             -2.0               10.0           -2.0   \n",
       "2    ---         84              0.0                3.0            0.0   \n",
       "3    ---         85              0.0                0.5            0.0   \n",
       "4    ---         86              0.0                2.0            0.0   \n",
       "\n",
       "   mensrights_mean  feminism_total_score  mensrights_total_score  \\\n",
       "0              7.0                   0.0                    14.0   \n",
       "1             10.0                  -2.0                    10.0   \n",
       "2              4.0                   0.0                    16.0   \n",
       "3             -1.5                   0.0                    -6.0   \n",
       "4              3.0                   0.0                    39.0   \n",
       "\n",
       "   feminism_number_of_posts  mensrights_number_of_posts  posts_in_month  \\\n",
       "0                       0.0                         2.0           23087   \n",
       "1                       1.0                         1.0           22746   \n",
       "2                       0.0                         4.0           18895   \n",
       "3                       0.0                         4.0           22963   \n",
       "4                       0.0                        13.0           28678   \n",
       "\n",
       "   authors_in_month  feminism_posts_in_month  mensrights_posts_in_month  \\\n",
       "0               948                   4900.0                    18187.0   \n",
       "1               957                   3521.0                    19225.0   \n",
       "2               998                   3672.0                    15223.0   \n",
       "3              1160                   4616.0                    18347.0   \n",
       "4              1280                   5206.0                    23472.0   \n",
       "\n",
       "   feminism_authors_in_month  mensrights_authors_in_month  \n",
       "0                      417.0                        770.0  \n",
       "1                      340.0                        794.0  \n",
       "2                      397.0                        773.0  \n",
       "3                      545.0                        914.0  \n",
       "4                      610.0                        981.0  "
      ]
     },
     "execution_count": 77,
     "metadata": {},
     "output_type": "execute_result"
    }
   ],
   "source": [
    "non_lagged_frame.head()"
   ]
  },
  {
   "cell_type": "code",
   "execution_count": 278,
   "metadata": {
    "collapsed": false
   },
   "outputs": [
    {
     "ename": "KeyboardInterrupt",
     "evalue": "",
     "output_type": "error",
     "traceback": [
      "\u001b[1;31m---------------------------------------------------------------------------\u001b[0m",
      "\u001b[1;31mKeyboardInterrupt\u001b[0m                         Traceback (most recent call last)",
      "\u001b[1;32m<ipython-input-278-af3faa8b641d>\u001b[0m in \u001b[0;36m<module>\u001b[1;34m()\u001b[0m\n\u001b[1;32m----> 1\u001b[1;33m \u001b[0mnon_lagged_frame\u001b[0m\u001b[1;33m.\u001b[0m\u001b[0mmerge\u001b[0m\u001b[1;33m(\u001b[0m\u001b[0mnon_lagged_frame\u001b[0m\u001b[1;33m.\u001b[0m\u001b[0mapply\u001b[0m\u001b[1;33m(\u001b[0m\u001b[0mget_prev_month\u001b[0m\u001b[1;33m,\u001b[0m\u001b[0maxis\u001b[0m\u001b[1;33m=\u001b[0m\u001b[1;36m1\u001b[0m\u001b[1;33m,\u001b[0m \u001b[0margs\u001b[0m\u001b[1;33m=\u001b[0m\u001b[1;33m(\u001b[0m\u001b[0mnon_lagged_frame\u001b[0m\u001b[1;33m,\u001b[0m\u001b[1;33m)\u001b[0m\u001b[1;33m)\u001b[0m\u001b[1;33m,\u001b[0m \u001b[0mleft_index\u001b[0m\u001b[1;33m=\u001b[0m\u001b[0mTrue\u001b[0m\u001b[1;33m,\u001b[0m \u001b[0mright_index\u001b[0m\u001b[1;33m=\u001b[0m\u001b[0mTrue\u001b[0m\u001b[1;33m)\u001b[0m\u001b[1;33m\u001b[0m\u001b[0m\n\u001b[0m",
      "\u001b[1;32m/l/python2.7.13/lib/python2.7/site-packages/pandas/core/frame.pyc\u001b[0m in \u001b[0;36mapply\u001b[1;34m(self, func, axis, broadcast, raw, reduce, args, **kwds)\u001b[0m\n\u001b[0;32m   4150\u001b[0m                     \u001b[1;32mif\u001b[0m \u001b[0mreduce\u001b[0m \u001b[1;32mis\u001b[0m \u001b[0mNone\u001b[0m\u001b[1;33m:\u001b[0m\u001b[1;33m\u001b[0m\u001b[0m\n\u001b[0;32m   4151\u001b[0m                         \u001b[0mreduce\u001b[0m \u001b[1;33m=\u001b[0m \u001b[0mTrue\u001b[0m\u001b[1;33m\u001b[0m\u001b[0m\n\u001b[1;32m-> 4152\u001b[1;33m                     \u001b[1;32mreturn\u001b[0m \u001b[0mself\u001b[0m\u001b[1;33m.\u001b[0m\u001b[0m_apply_standard\u001b[0m\u001b[1;33m(\u001b[0m\u001b[0mf\u001b[0m\u001b[1;33m,\u001b[0m \u001b[0maxis\u001b[0m\u001b[1;33m,\u001b[0m \u001b[0mreduce\u001b[0m\u001b[1;33m=\u001b[0m\u001b[0mreduce\u001b[0m\u001b[1;33m)\u001b[0m\u001b[1;33m\u001b[0m\u001b[0m\n\u001b[0m\u001b[0;32m   4153\u001b[0m             \u001b[1;32melse\u001b[0m\u001b[1;33m:\u001b[0m\u001b[1;33m\u001b[0m\u001b[0m\n\u001b[0;32m   4154\u001b[0m                 \u001b[1;32mreturn\u001b[0m \u001b[0mself\u001b[0m\u001b[1;33m.\u001b[0m\u001b[0m_apply_broadcast\u001b[0m\u001b[1;33m(\u001b[0m\u001b[0mf\u001b[0m\u001b[1;33m,\u001b[0m \u001b[0maxis\u001b[0m\u001b[1;33m)\u001b[0m\u001b[1;33m\u001b[0m\u001b[0m\n",
      "\u001b[1;32m/l/python2.7.13/lib/python2.7/site-packages/pandas/core/frame.pyc\u001b[0m in \u001b[0;36m_apply_standard\u001b[1;34m(self, func, axis, ignore_failures, reduce)\u001b[0m\n\u001b[0;32m   4246\u001b[0m             \u001b[1;32mtry\u001b[0m\u001b[1;33m:\u001b[0m\u001b[1;33m\u001b[0m\u001b[0m\n\u001b[0;32m   4247\u001b[0m                 \u001b[1;32mfor\u001b[0m \u001b[0mi\u001b[0m\u001b[1;33m,\u001b[0m \u001b[0mv\u001b[0m \u001b[1;32min\u001b[0m \u001b[0menumerate\u001b[0m\u001b[1;33m(\u001b[0m\u001b[0mseries_gen\u001b[0m\u001b[1;33m)\u001b[0m\u001b[1;33m:\u001b[0m\u001b[1;33m\u001b[0m\u001b[0m\n\u001b[1;32m-> 4248\u001b[1;33m                     \u001b[0mresults\u001b[0m\u001b[1;33m[\u001b[0m\u001b[0mi\u001b[0m\u001b[1;33m]\u001b[0m \u001b[1;33m=\u001b[0m \u001b[0mfunc\u001b[0m\u001b[1;33m(\u001b[0m\u001b[0mv\u001b[0m\u001b[1;33m)\u001b[0m\u001b[1;33m\u001b[0m\u001b[0m\n\u001b[0m\u001b[0;32m   4249\u001b[0m                     \u001b[0mkeys\u001b[0m\u001b[1;33m.\u001b[0m\u001b[0mappend\u001b[0m\u001b[1;33m(\u001b[0m\u001b[0mv\u001b[0m\u001b[1;33m.\u001b[0m\u001b[0mname\u001b[0m\u001b[1;33m)\u001b[0m\u001b[1;33m\u001b[0m\u001b[0m\n\u001b[0;32m   4250\u001b[0m             \u001b[1;32mexcept\u001b[0m \u001b[0mException\u001b[0m \u001b[1;32mas\u001b[0m \u001b[0me\u001b[0m\u001b[1;33m:\u001b[0m\u001b[1;33m\u001b[0m\u001b[0m\n",
      "\u001b[1;32m/l/python2.7.13/lib/python2.7/site-packages/pandas/core/frame.pyc\u001b[0m in \u001b[0;36mf\u001b[1;34m(x)\u001b[0m\n\u001b[0;32m   4127\u001b[0m \u001b[1;33m\u001b[0m\u001b[0m\n\u001b[0;32m   4128\u001b[0m             \u001b[1;32mdef\u001b[0m \u001b[0mf\u001b[0m\u001b[1;33m(\u001b[0m\u001b[0mx\u001b[0m\u001b[1;33m)\u001b[0m\u001b[1;33m:\u001b[0m\u001b[1;33m\u001b[0m\u001b[0m\n\u001b[1;32m-> 4129\u001b[1;33m                 \u001b[1;32mreturn\u001b[0m \u001b[0mfunc\u001b[0m\u001b[1;33m(\u001b[0m\u001b[0mx\u001b[0m\u001b[1;33m,\u001b[0m \u001b[1;33m*\u001b[0m\u001b[0margs\u001b[0m\u001b[1;33m,\u001b[0m \u001b[1;33m**\u001b[0m\u001b[0mkwds\u001b[0m\u001b[1;33m)\u001b[0m\u001b[1;33m\u001b[0m\u001b[0m\n\u001b[0m\u001b[0;32m   4130\u001b[0m         \u001b[1;32melse\u001b[0m\u001b[1;33m:\u001b[0m\u001b[1;33m\u001b[0m\u001b[0m\n\u001b[0;32m   4131\u001b[0m             \u001b[0mf\u001b[0m \u001b[1;33m=\u001b[0m \u001b[0mfunc\u001b[0m\u001b[1;33m\u001b[0m\u001b[0m\n",
      "\u001b[1;32m<ipython-input-277-d145400ea45b>\u001b[0m in \u001b[0;36mget_prev_month\u001b[1;34m(x, complete_frame)\u001b[0m\n\u001b[0;32m     18\u001b[0m     \u001b[0mfirst_merge\u001b[0m\u001b[1;33m=\u001b[0m\u001b[0mpd\u001b[0m\u001b[1;33m.\u001b[0m\u001b[0mmerge\u001b[0m\u001b[1;33m(\u001b[0m\u001b[0mfirst_lag_frame\u001b[0m\u001b[1;33m,\u001b[0m \u001b[0msecond_lag_frame\u001b[0m\u001b[1;33m,\u001b[0m \u001b[0mhow\u001b[0m\u001b[1;33m=\u001b[0m\u001b[1;34m\"outer\"\u001b[0m\u001b[1;33m,\u001b[0m \u001b[0mleft_on\u001b[0m\u001b[1;33m=\u001b[0m\u001b[1;34m\"author\"\u001b[0m\u001b[1;33m,\u001b[0m \u001b[0mright_on\u001b[0m \u001b[1;33m=\u001b[0m\u001b[1;34m\"author\"\u001b[0m\u001b[1;33m)\u001b[0m\u001b[1;33m\u001b[0m\u001b[0m\n\u001b[0;32m     19\u001b[0m     \u001b[0msecond_merge\u001b[0m\u001b[1;33m=\u001b[0m\u001b[0mpd\u001b[0m\u001b[1;33m.\u001b[0m\u001b[0mmerge\u001b[0m\u001b[1;33m(\u001b[0m\u001b[0mfirst_merge\u001b[0m\u001b[1;33m,\u001b[0m \u001b[0mthird_lag_frame\u001b[0m\u001b[1;33m,\u001b[0m \u001b[0mhow\u001b[0m\u001b[1;33m=\u001b[0m\u001b[1;34m\"outer\"\u001b[0m\u001b[1;33m,\u001b[0m \u001b[0mleft_on\u001b[0m\u001b[1;33m=\u001b[0m\u001b[1;34m\"author\"\u001b[0m\u001b[1;33m,\u001b[0m \u001b[0mright_on\u001b[0m \u001b[1;33m=\u001b[0m\u001b[1;34m\"author\"\u001b[0m\u001b[1;33m)\u001b[0m\u001b[1;33m\u001b[0m\u001b[0m\n\u001b[1;32m---> 20\u001b[1;33m     \u001b[0mreturn_frame\u001b[0m\u001b[1;33m=\u001b[0m \u001b[0msecond_merge\u001b[0m\u001b[1;33m[\u001b[0m\u001b[1;33m[\u001b[0m\u001b[1;34m'lag_1_feminism_median'\u001b[0m\u001b[1;33m,\u001b[0m\u001b[1;34m'lag_1_mensrights_median'\u001b[0m\u001b[1;33m,\u001b[0m\u001b[1;34m'lag_1_feminism_mean'\u001b[0m\u001b[1;33m,\u001b[0m\u001b[1;34m'lag_1_mensrights_mean'\u001b[0m\u001b[1;33m,\u001b[0m\u001b[1;34m'lag_1_feminism_total_score'\u001b[0m\u001b[1;33m,\u001b[0m\u001b[1;34m'lag_1_mensrights_total_score'\u001b[0m\u001b[1;33m,\u001b[0m\u001b[1;34m'lag_1_feminism_number_of_posts'\u001b[0m\u001b[1;33m,\u001b[0m\u001b[1;34m'lag_1_mensrights_number_of_posts'\u001b[0m\u001b[1;33m,\u001b[0m\u001b[1;34m'lag_2_feminism_median'\u001b[0m\u001b[1;33m,\u001b[0m\u001b[1;34m'lag_2_mensrights_median'\u001b[0m\u001b[1;33m,\u001b[0m\u001b[1;34m'lag_2_feminism_mean'\u001b[0m\u001b[1;33m,\u001b[0m\u001b[1;34m'lag_2_mensrights_mean'\u001b[0m\u001b[1;33m,\u001b[0m\u001b[1;34m'lag_2_feminism_total_score'\u001b[0m\u001b[1;33m,\u001b[0m\u001b[1;34m'lag_2_mensrights_total_score'\u001b[0m\u001b[1;33m,\u001b[0m\u001b[1;34m'lag_2_feminism_number_of_posts'\u001b[0m\u001b[1;33m,\u001b[0m\u001b[1;34m'lag_2_mensrights_number_of_posts'\u001b[0m\u001b[1;33m,\u001b[0m\u001b[1;34m'lag_3_feminism_median'\u001b[0m\u001b[1;33m,\u001b[0m\u001b[1;34m'lag_3_mensrights_median'\u001b[0m\u001b[1;33m,\u001b[0m\u001b[1;34m'lag_3_feminism_mean'\u001b[0m\u001b[1;33m,\u001b[0m\u001b[1;34m'lag_3_mensrights_mean'\u001b[0m\u001b[1;33m,\u001b[0m\u001b[1;34m'lag_3_feminism_total_score'\u001b[0m\u001b[1;33m,\u001b[0m\u001b[1;34m'lag_3_mensrights_total_score'\u001b[0m\u001b[1;33m,\u001b[0m\u001b[1;34m'lag_3_feminism_number_of_posts'\u001b[0m\u001b[1;33m,\u001b[0m\u001b[1;34m'lag_3_mensrights_number_of_posts'\u001b[0m\u001b[1;33m]\u001b[0m\u001b[1;33m]\u001b[0m\u001b[1;33m\u001b[0m\u001b[0m\n\u001b[0m\u001b[0;32m     21\u001b[0m     \u001b[1;32mif\u001b[0m \u001b[0mreturn_frame\u001b[0m\u001b[1;33m.\u001b[0m\u001b[0mshape\u001b[0m\u001b[1;33m[\u001b[0m\u001b[1;36m0\u001b[0m\u001b[1;33m]\u001b[0m\u001b[1;33m>\u001b[0m\u001b[1;36m0\u001b[0m\u001b[1;33m:\u001b[0m\u001b[1;33m\u001b[0m\u001b[0m\n\u001b[0;32m     22\u001b[0m         \u001b[0mreturn_series\u001b[0m\u001b[1;33m=\u001b[0m\u001b[0mreturn_frame\u001b[0m\u001b[1;33m.\u001b[0m\u001b[0miloc\u001b[0m\u001b[1;33m[\u001b[0m\u001b[1;36m0\u001b[0m\u001b[1;33m]\u001b[0m\u001b[1;33m\u001b[0m\u001b[0m\n",
      "\u001b[1;32m/l/python2.7.13/lib/python2.7/site-packages/pandas/core/frame.pyc\u001b[0m in \u001b[0;36m__getitem__\u001b[1;34m(self, key)\u001b[0m\n\u001b[0;32m   2051\u001b[0m         \u001b[1;32mif\u001b[0m \u001b[0misinstance\u001b[0m\u001b[1;33m(\u001b[0m\u001b[0mkey\u001b[0m\u001b[1;33m,\u001b[0m \u001b[1;33m(\u001b[0m\u001b[0mSeries\u001b[0m\u001b[1;33m,\u001b[0m \u001b[0mnp\u001b[0m\u001b[1;33m.\u001b[0m\u001b[0mndarray\u001b[0m\u001b[1;33m,\u001b[0m \u001b[0mIndex\u001b[0m\u001b[1;33m,\u001b[0m \u001b[0mlist\u001b[0m\u001b[1;33m)\u001b[0m\u001b[1;33m)\u001b[0m\u001b[1;33m:\u001b[0m\u001b[1;33m\u001b[0m\u001b[0m\n\u001b[0;32m   2052\u001b[0m             \u001b[1;31m# either boolean or fancy integer index\u001b[0m\u001b[1;33m\u001b[0m\u001b[1;33m\u001b[0m\u001b[0m\n\u001b[1;32m-> 2053\u001b[1;33m             \u001b[1;32mreturn\u001b[0m \u001b[0mself\u001b[0m\u001b[1;33m.\u001b[0m\u001b[0m_getitem_array\u001b[0m\u001b[1;33m(\u001b[0m\u001b[0mkey\u001b[0m\u001b[1;33m)\u001b[0m\u001b[1;33m\u001b[0m\u001b[0m\n\u001b[0m\u001b[0;32m   2054\u001b[0m         \u001b[1;32melif\u001b[0m \u001b[0misinstance\u001b[0m\u001b[1;33m(\u001b[0m\u001b[0mkey\u001b[0m\u001b[1;33m,\u001b[0m \u001b[0mDataFrame\u001b[0m\u001b[1;33m)\u001b[0m\u001b[1;33m:\u001b[0m\u001b[1;33m\u001b[0m\u001b[0m\n\u001b[0;32m   2055\u001b[0m             \u001b[1;32mreturn\u001b[0m \u001b[0mself\u001b[0m\u001b[1;33m.\u001b[0m\u001b[0m_getitem_frame\u001b[0m\u001b[1;33m(\u001b[0m\u001b[0mkey\u001b[0m\u001b[1;33m)\u001b[0m\u001b[1;33m\u001b[0m\u001b[0m\n",
      "\u001b[1;32m/l/python2.7.13/lib/python2.7/site-packages/pandas/core/frame.pyc\u001b[0m in \u001b[0;36m_getitem_array\u001b[1;34m(self, key)\u001b[0m\n\u001b[0;32m   2095\u001b[0m             \u001b[1;32mreturn\u001b[0m \u001b[0mself\u001b[0m\u001b[1;33m.\u001b[0m\u001b[0mtake\u001b[0m\u001b[1;33m(\u001b[0m\u001b[0mindexer\u001b[0m\u001b[1;33m,\u001b[0m \u001b[0maxis\u001b[0m\u001b[1;33m=\u001b[0m\u001b[1;36m0\u001b[0m\u001b[1;33m,\u001b[0m \u001b[0mconvert\u001b[0m\u001b[1;33m=\u001b[0m\u001b[0mFalse\u001b[0m\u001b[1;33m)\u001b[0m\u001b[1;33m\u001b[0m\u001b[0m\n\u001b[0;32m   2096\u001b[0m         \u001b[1;32melse\u001b[0m\u001b[1;33m:\u001b[0m\u001b[1;33m\u001b[0m\u001b[0m\n\u001b[1;32m-> 2097\u001b[1;33m             \u001b[0mindexer\u001b[0m \u001b[1;33m=\u001b[0m \u001b[0mself\u001b[0m\u001b[1;33m.\u001b[0m\u001b[0mix\u001b[0m\u001b[1;33m.\u001b[0m\u001b[0m_convert_to_indexer\u001b[0m\u001b[1;33m(\u001b[0m\u001b[0mkey\u001b[0m\u001b[1;33m,\u001b[0m \u001b[0maxis\u001b[0m\u001b[1;33m=\u001b[0m\u001b[1;36m1\u001b[0m\u001b[1;33m)\u001b[0m\u001b[1;33m\u001b[0m\u001b[0m\n\u001b[0m\u001b[0;32m   2098\u001b[0m             \u001b[1;32mreturn\u001b[0m \u001b[0mself\u001b[0m\u001b[1;33m.\u001b[0m\u001b[0mtake\u001b[0m\u001b[1;33m(\u001b[0m\u001b[0mindexer\u001b[0m\u001b[1;33m,\u001b[0m \u001b[0maxis\u001b[0m\u001b[1;33m=\u001b[0m\u001b[1;36m1\u001b[0m\u001b[1;33m,\u001b[0m \u001b[0mconvert\u001b[0m\u001b[1;33m=\u001b[0m\u001b[0mTrue\u001b[0m\u001b[1;33m)\u001b[0m\u001b[1;33m\u001b[0m\u001b[0m\n\u001b[0;32m   2099\u001b[0m \u001b[1;33m\u001b[0m\u001b[0m\n",
      "\u001b[1;32m/l/python2.7.13/lib/python2.7/site-packages/pandas/core/indexing.pyc\u001b[0m in \u001b[0;36m_convert_to_indexer\u001b[1;34m(self, obj, axis, is_setter)\u001b[0m\n\u001b[0;32m   1216\u001b[0m                     \u001b[1;31m# unique index\u001b[0m\u001b[1;33m\u001b[0m\u001b[1;33m\u001b[0m\u001b[0m\n\u001b[0;32m   1217\u001b[0m                     \u001b[1;32mif\u001b[0m \u001b[0mlabels\u001b[0m\u001b[1;33m.\u001b[0m\u001b[0mis_unique\u001b[0m\u001b[1;33m:\u001b[0m\u001b[1;33m\u001b[0m\u001b[0m\n\u001b[1;32m-> 1218\u001b[1;33m                         \u001b[0mindexer\u001b[0m \u001b[1;33m=\u001b[0m \u001b[0mcheck\u001b[0m \u001b[1;33m=\u001b[0m \u001b[0mlabels\u001b[0m\u001b[1;33m.\u001b[0m\u001b[0mget_indexer\u001b[0m\u001b[1;33m(\u001b[0m\u001b[0mobjarr\u001b[0m\u001b[1;33m)\u001b[0m\u001b[1;33m\u001b[0m\u001b[0m\n\u001b[0m\u001b[0;32m   1219\u001b[0m \u001b[1;33m\u001b[0m\u001b[0m\n\u001b[0;32m   1220\u001b[0m                     \u001b[1;31m# non-unique (dups)\u001b[0m\u001b[1;33m\u001b[0m\u001b[1;33m\u001b[0m\u001b[0m\n",
      "\u001b[1;32m/l/python2.7.13/lib/python2.7/site-packages/pandas/indexes/base.pyc\u001b[0m in \u001b[0;36mget_indexer\u001b[1;34m(self, target, method, limit, tolerance)\u001b[0m\n\u001b[0;32m   2262\u001b[0m                                      tolerance=tolerance)\n\u001b[0;32m   2263\u001b[0m \u001b[1;33m\u001b[0m\u001b[0m\n\u001b[1;32m-> 2264\u001b[1;33m         \u001b[1;32mif\u001b[0m \u001b[1;32mnot\u001b[0m \u001b[0mis_dtype_equal\u001b[0m\u001b[1;33m(\u001b[0m\u001b[0mself\u001b[0m\u001b[1;33m.\u001b[0m\u001b[0mdtype\u001b[0m\u001b[1;33m,\u001b[0m \u001b[0mtarget\u001b[0m\u001b[1;33m.\u001b[0m\u001b[0mdtype\u001b[0m\u001b[1;33m)\u001b[0m\u001b[1;33m:\u001b[0m\u001b[1;33m\u001b[0m\u001b[0m\n\u001b[0m\u001b[0;32m   2265\u001b[0m             \u001b[0mthis\u001b[0m \u001b[1;33m=\u001b[0m \u001b[0mself\u001b[0m\u001b[1;33m.\u001b[0m\u001b[0mastype\u001b[0m\u001b[1;33m(\u001b[0m\u001b[0mobject\u001b[0m\u001b[1;33m)\u001b[0m\u001b[1;33m\u001b[0m\u001b[0m\n\u001b[0;32m   2266\u001b[0m             \u001b[0mtarget\u001b[0m \u001b[1;33m=\u001b[0m \u001b[0mtarget\u001b[0m\u001b[1;33m.\u001b[0m\u001b[0mastype\u001b[0m\u001b[1;33m(\u001b[0m\u001b[0mobject\u001b[0m\u001b[1;33m)\u001b[0m\u001b[1;33m\u001b[0m\u001b[0m\n",
      "\u001b[1;32mpandas/src/properties.pyx\u001b[0m in \u001b[0;36mpandas.lib.cache_readonly.__get__ (pandas/lib.c:45588)\u001b[1;34m()\u001b[0m\n",
      "\u001b[1;32m/l/python2.7.13/lib/python2.7/site-packages/pandas/indexes/base.pyc\u001b[0m in \u001b[0;36mdtype\u001b[1;34m(self)\u001b[0m\n\u001b[0;32m    510\u001b[0m         \u001b[1;32mreturn\u001b[0m \u001b[0mIndex\u001b[0m\u001b[1;33m(\u001b[0m\u001b[0mresult\u001b[0m\u001b[1;33m,\u001b[0m \u001b[1;33m**\u001b[0m\u001b[0mattrs\u001b[0m\u001b[1;33m)\u001b[0m\u001b[1;33m\u001b[0m\u001b[0m\n\u001b[0;32m    511\u001b[0m \u001b[1;33m\u001b[0m\u001b[0m\n\u001b[1;32m--> 512\u001b[1;33m     \u001b[1;33m@\u001b[0m\u001b[0mcache_readonly\u001b[0m\u001b[1;33m\u001b[0m\u001b[0m\n\u001b[0m\u001b[0;32m    513\u001b[0m     \u001b[1;32mdef\u001b[0m \u001b[0mdtype\u001b[0m\u001b[1;33m(\u001b[0m\u001b[0mself\u001b[0m\u001b[1;33m)\u001b[0m\u001b[1;33m:\u001b[0m\u001b[1;33m\u001b[0m\u001b[0m\n\u001b[0;32m    514\u001b[0m         \u001b[1;34m\"\"\" return the dtype object of the underlying data \"\"\"\u001b[0m\u001b[1;33m\u001b[0m\u001b[0m\n",
      "\u001b[1;31mKeyboardInterrupt\u001b[0m: "
     ]
    }
   ],
   "source": [
    "lagged_frame=non_lagged_frame.merge(non_lagged_frame.apply(get_prev_month,axis=1, args=(non_lagged_frame,)), left_index=True, right_index=True)"
   ]
  }
 ],
 "metadata": {
  "kernelspec": {
   "display_name": "Python 2",
   "language": "python",
   "name": "python2"
  },
  "language_info": {
   "codemirror_mode": {
    "name": "ipython",
    "version": 2
   },
   "file_extension": ".py",
   "mimetype": "text/x-python",
   "name": "python",
   "nbconvert_exporter": "python",
   "pygments_lexer": "ipython2",
   "version": "2.7.13"
  }
 },
 "nbformat": 4,
 "nbformat_minor": 0
}
